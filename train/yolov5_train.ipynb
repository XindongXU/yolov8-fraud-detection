{
  "cells": [
    {
      "cell_type": "code",
      "source": [
        "import os\r\n",
        "from azure.storage.blob import BlobServiceClient\r\n",
        "from azure.ai.ml import MLClient\r\n",
        "from azure.identity import DefaultAzureCredential\r\n",
        "from azure.ai.ml.entities import AmlCompute\r\n",
        "\r\n",
        "# authenticate\r\n",
        "credential = DefaultAzureCredential()\r\n",
        "# # Get a handle to the workspace\r\n",
        "ml_client = MLClient(\r\n",
        "    credential=credential,\r\n",
        "    subscription_id=\"ae5d81ce-f45c-4e8b-95df-79885feea927\",\r\n",
        "    resource_group_name=\"IA\",\r\n",
        "    workspace_name=\"IA_for_BBot\",\r\n",
        ")"
      ],
      "outputs": [],
      "execution_count": 1,
      "metadata": {
        "jupyter": {
          "source_hidden": false,
          "outputs_hidden": false
        },
        "nteract": {
          "transient": {
            "deleting": false
          }
        },
        "gather": {
          "logged": 1689087735229
        }
      }
    },
    {
      "cell_type": "code",
      "source": [
        "# Name assigned to the compute cluster\r\n",
        "gpu_compute_cluster = \"Tesla-K80\"\r\n",
        "\r\n",
        "# let's see if the compute target already exists\r\n",
        "gpu_cluster = ml_client.compute.get(gpu_compute_cluster)\r\n",
        "\r\n",
        "print(f\"You already have a cluster named {gpu_compute_cluster}, we'll reuse it as is.\")"
      ],
      "outputs": [
        {
          "output_type": "stream",
          "name": "stdout",
          "text": "You already have a cluster named Tesla-K80, we'll reuse it as is.\n"
        }
      ],
      "execution_count": 2,
      "metadata": {
        "jupyter": {
          "source_hidden": false,
          "outputs_hidden": false
        },
        "nteract": {
          "transient": {
            "deleting": false
          }
        },
        "gather": {
          "logged": 1689087735391
        }
      }
    },
    {
      "cell_type": "code",
      "source": [
        "from azure.ai.ml.entities import Environment\r\n",
        "\r\n",
        "custom_env_name = \"iaob2-yolo5\"\r\n",
        "\r\n",
        "custom_job_env = Environment(\r\n",
        "    name=custom_env_name,\r\n",
        "    description=\"Custom environment for yolov8 training job on gpu compute instance\",\r\n",
        "    conda_file=\"./dependencies/env-yolov5.yaml\",\r\n",
        "    image=\"mcr.microsoft.com/azureml/openmpi3.1.2-ubuntu18.04:latest\",\r\n",
        ")\r\n",
        "custom_job_env = ml_client.environments.create_or_update(custom_job_env)\r\n",
        "\r\n",
        "print(\r\n",
        "    f\"Environment with name {custom_job_env.name} is registered to workspace, the environment version is {custom_job_env.version}\"\r\n",
        ")"
      ],
      "outputs": [
        {
          "output_type": "stream",
          "name": "stdout",
          "text": "Environment with name iaob2-yolo5 is registered to workspace, the environment version is 12\n"
        }
      ],
      "execution_count": 3,
      "metadata": {
        "jupyter": {
          "source_hidden": false,
          "outputs_hidden": false
        },
        "nteract": {
          "transient": {
            "deleting": false
          }
        },
        "gather": {
          "logged": 1689087738444
        }
      }
    },
    {
      "cell_type": "code",
      "source": [
        "from azure.ai.ml import command\r\n",
        "from azure.ai.ml import Input\r\n",
        "\r\n",
        "job = command(\r\n",
        "    inputs=dict(\r\n",
        "        version='n'\r\n",
        "    ),\r\n",
        "    compute=gpu_compute_cluster,\r\n",
        "    environment=\"iaob2-yolo5@latest\",\r\n",
        "    code=\"./src\",  # location of source code\r\n",
        "    command=\"python trainv5.py --version ${{inputs.version}}\",\r\n",
        "    experiment_name=\"yolov5\",\r\n",
        "    display_name=\"yolov5_1107_dataset6\",\r\n",
        ")"
      ],
      "outputs": [],
      "execution_count": 4,
      "metadata": {
        "jupyter": {
          "source_hidden": false,
          "outputs_hidden": false
        },
        "nteract": {
          "transient": {
            "deleting": false
          }
        },
        "gather": {
          "logged": 1689087738554
        }
      }
    },
    {
      "cell_type": "code",
      "source": [
        "ml_client.create_or_update(job)"
      ],
      "outputs": [
        {
          "output_type": "stream",
          "name": "stderr",
          "text": "\r\u001b[32mUploading src (0.0 MBs):   0%|          | 0/1622 [00:00<?, ?it/s]\r\u001b[32mUploading src (0.0 MBs): 100%|██████████| 1622/1622 [00:00<00:00, 54221.42it/s]\n\u001b[39m\n\n"
        },
        {
          "output_type": "execute_result",
          "execution_count": 5,
          "data": {
            "text/plain": "Command({'parameters': {}, 'init': False, 'type': 'command', 'status': 'Starting', 'log_files': None, 'name': 'dynamic_pumpkin_byzsb8qxhq', 'description': None, 'tags': {}, 'properties': {'_azureml.ComputeTargetType': 'amlctrain', 'ContentSnapshotId': 'f505555c-fe2e-445a-83fd-f75f591740c2'}, 'print_as_yaml': True, 'id': '/subscriptions/ae5d81ce-f45c-4e8b-95df-79885feea927/resourceGroups/IA/providers/Microsoft.MachineLearningServices/workspaces/IA_for_BBot/jobs/dynamic_pumpkin_byzsb8qxhq', 'Resource__source_path': None, 'base_path': '/mnt/batch/tasks/shared/LS_root/mounts/clusters/tesla-m60/code/Users/xindong.x/yolov8_finetune', 'creation_context': <azure.ai.ml.entities._system_data.SystemData object at 0x7fc8d6765030>, 'serialize': <msrest.serialization.Serializer object at 0x7fc8d67653f0>, 'allowed_keys': {}, 'key_restriction': False, 'logger': <Logger attr_dict (WARNING)>, 'display_name': 'yolov5_1107_dataset6', 'experiment_name': 'yolov5', 'compute': 'Tesla-K80', 'services': {'Tracking': <azure.ai.ml.entities._job.job_service.JobService object at 0x7fc8d6766020>, 'Studio': <azure.ai.ml.entities._job.job_service.JobService object at 0x7fc8d6765840>}, 'comment': None, 'job_inputs': {'version': 'n'}, 'job_outputs': {'default': {'type': 'uri_folder', 'path': 'azureml://datastores/workspaceartifactstore/ExperimentRun/dcid.dynamic_pumpkin_byzsb8qxhq', 'mode': 'rw_mount'}}, 'inputs': {'version': <azure.ai.ml.entities._job.pipeline._io.base.NodeInput object at 0x7fc8d67652d0>}, 'outputs': {'default': <azure.ai.ml.entities._job.pipeline._io.base.NodeOutput object at 0x7fc8d6765ea0>}, 'component': CommandComponent({'auto_increment_version': True, 'source': 'REMOTE.WORKSPACE.JOB', 'is_anonymous': False, 'name': 'dynamic_pumpkin_byzsb8qxhq', 'description': None, 'tags': {}, 'properties': {}, 'print_as_yaml': True, 'id': None, 'Resource__source_path': None, 'base_path': PosixPath('.'), 'creation_context': <azure.ai.ml.entities._system_data.SystemData object at 0x7fc8d6765030>, 'serialize': <msrest.serialization.Serializer object at 0x7fc8d6765060>, 'command': 'python trainv5.py --version ${{inputs.version}}', 'code': '/subscriptions/ae5d81ce-f45c-4e8b-95df-79885feea927/resourceGroups/IA/providers/Microsoft.MachineLearningServices/workspaces/IA_for_BBot/codes/b0f747dc-e3be-4bfb-bb97-3cbc51c43dbb/versions/1', 'environment_variables': {}, 'environment': '/subscriptions/ae5d81ce-f45c-4e8b-95df-79885feea927/resourceGroups/IA/providers/Microsoft.MachineLearningServices/workspaces/IA_for_BBot/environments/iaob2-yolo5/versions/12', 'distribution': None, 'resources': None, 'queue_settings': None, 'version': None, 'latest_version': None, 'schema': None, 'type': 'command', 'display_name': 'yolov5_1107_dataset6', 'is_deterministic': True, 'inputs': {'version': {'type': 'string', 'default': 'n'}}, 'outputs': {'default': {'type': 'uri_folder', 'path': 'azureml://datastores/workspaceartifactstore/ExperimentRun/dcid.dynamic_pumpkin_byzsb8qxhq', 'mode': 'rw_mount'}}, 'yaml_str': None, 'other_parameter': {'status': 'Starting', 'parameters': {}}}), 'referenced_control_flow_node_instance_id': None, 'kwargs': {'services': {'Tracking': <azure.ai.ml.entities._job.job_service.JobService object at 0x7fc8d6766020>, 'Studio': <azure.ai.ml.entities._job.job_service.JobService object at 0x7fc8d6765840>}, 'status': 'Starting', 'creation_context': <azure.ai.ml.entities._system_data.SystemData object at 0x7fc8d6765030>}, 'instance_id': 'b7034018-945c-491c-8d17-d9b91120c3ec', 'source': 'BUILDER', 'validate_required_input_not_provided': True, 'limits': None, 'identity': None, 'distribution': None, 'environment_variables': {}, 'environment': 'iaob2-yolo5:12', 'resources': {'instance_count': 1, 'shm_size': '2g'}, 'queue_settings': None, 'swept': False})",
            "text/html": "<table style=\"width:100%\"><tr><th>Experiment</th><th>Name</th><th>Type</th><th>Status</th><th>Details Page</th></tr><tr><td>yolov5</td><td>dynamic_pumpkin_byzsb8qxhq</td><td>command</td><td>Starting</td><td><a href=\"https://ml.azure.com/runs/dynamic_pumpkin_byzsb8qxhq?wsid=/subscriptions/ae5d81ce-f45c-4e8b-95df-79885feea927/resourcegroups/IA/workspaces/IA_for_BBot&amp;tid=3b3ee592-437c-455d-a278-1737dc363b32\" target=\"_blank\" rel=\"noopener\">Link to Azure Machine Learning studio</a></td></tr></table>"
          },
          "metadata": {}
        }
      ],
      "execution_count": 5,
      "metadata": {
        "jupyter": {
          "source_hidden": false,
          "outputs_hidden": false
        },
        "nteract": {
          "transient": {
            "deleting": false
          }
        },
        "gather": {
          "logged": 1689087741239
        }
      }
    },
    {
      "cell_type": "code",
      "source": [],
      "outputs": [],
      "execution_count": null,
      "metadata": {
        "jupyter": {
          "source_hidden": false,
          "outputs_hidden": false
        },
        "nteract": {
          "transient": {
            "deleting": false
          }
        }
      }
    }
  ],
  "metadata": {
    "kernelspec": {
      "name": "python310-sdkv2",
      "language": "python",
      "display_name": "Python 3.10 - SDK v2"
    },
    "language_info": {
      "name": "python",
      "version": "3.10.10",
      "mimetype": "text/x-python",
      "codemirror_mode": {
        "name": "ipython",
        "version": 3
      },
      "pygments_lexer": "ipython3",
      "nbconvert_exporter": "python",
      "file_extension": ".py"
    },
    "microsoft": {
      "ms_spell_check": {
        "ms_spell_check_language": "en"
      },
      "host": {
        "AzureML": {
          "notebookHasBeenCompleted": true
        }
      }
    },
    "kernel_info": {
      "name": "python310-sdkv2"
    },
    "nteract": {
      "version": "nteract-front-end@1.0.0"
    }
  },
  "nbformat": 4,
  "nbformat_minor": 2
}